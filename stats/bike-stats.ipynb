{
 "metadata": {
  "language_info": {
   "codemirror_mode": {
    "name": "ipython",
    "version": 3
   },
   "file_extension": ".py",
   "mimetype": "text/x-python",
   "name": "python",
   "nbconvert_exporter": "python",
   "pygments_lexer": "ipython3",
   "version": "3.9.0-final"
  },
  "orig_nbformat": 2,
  "kernelspec": {
   "name": "python3",
   "display_name": "Python 3",
   "language": "python"
  }
 },
 "nbformat": 4,
 "nbformat_minor": 2,
 "cells": [
  {
   "source": [
    "## Lab: 12 - Data Analysis with Pandas Bike Stats"
   ],
   "cell_type": "markdown",
   "metadata": {}
  },
  {
   "cell_type": "code",
   "execution_count": 2,
   "metadata": {},
   "outputs": [],
   "source": [
    "import pandas as pd "
   ]
  },
  {
   "cell_type": "code",
   "execution_count": 15,
   "metadata": {},
   "outputs": [
    {
     "output_type": "stream",
     "name": "stderr",
     "text": [
      "b'Skipping line 50794: expected 12 fields, saw 20\\n'\n"
     ]
    },
    {
     "output_type": "execute_result",
     "data": {
      "text/plain": [
       "        trip_id         starttime          stoptime    bikeid  tripduration  \\\n",
       "0           431  10/13/2014 10:31  10/13/2014 10:48  SEA00298       985.935   \n",
       "1           432  10/13/2014 10:32  10/13/2014 10:48  SEA00195       926.375   \n",
       "2           433  10/13/2014 10:33  10/13/2014 10:48  SEA00486       883.831   \n",
       "3           434  10/13/2014 10:34  10/13/2014 10:48  SEA00333       865.937   \n",
       "4           435  10/13/2014 10:34  10/13/2014 10:49  SEA00202       923.923   \n",
       "...         ...               ...               ...       ...           ...   \n",
       "286852   255241   8/31/2016 23:34   8/31/2016 23:45  SEA00201       679.532   \n",
       "286853   255242   8/31/2016 23:48     9/1/2016 0:20  SEA00247      1965.418   \n",
       "286854   255243   8/31/2016 23:47     9/1/2016 0:20  SEA00300      1951.173   \n",
       "286855   255244   8/31/2016 23:49     9/1/2016 0:20  SEA00047      1883.299   \n",
       "286856   255245   8/31/2016 23:49     9/1/2016 0:20  SEA00442      1896.031   \n",
       "\n",
       "                             from_station_name  \\\n",
       "0                          2nd Ave & Spring St   \n",
       "1                          2nd Ave & Spring St   \n",
       "2                          2nd Ave & Spring St   \n",
       "3                          2nd Ave & Spring St   \n",
       "4                          2nd Ave & Spring St   \n",
       "...                                        ...   \n",
       "286852                 Harvard Ave & E Pine St   \n",
       "286853  Cal Anderson Park / 11th Ave & Pine St   \n",
       "286854  Cal Anderson Park / 11th Ave & Pine St   \n",
       "286855  Cal Anderson Park / 11th Ave & Pine St   \n",
       "286856  Cal Anderson Park / 11th Ave & Pine St   \n",
       "\n",
       "                                          to_station_name from_station_id  \\\n",
       "0       Occidental Park / Occidental Ave S & S Washing...          CBD-06   \n",
       "1       Occidental Park / Occidental Ave S & S Washing...          CBD-06   \n",
       "2       Occidental Park / Occidental Ave S & S Washing...          CBD-06   \n",
       "3       Occidental Park / Occidental Ave S & S Washing...          CBD-06   \n",
       "4       Occidental Park / Occidental Ave S & S Washing...          CBD-06   \n",
       "...                                                   ...             ...   \n",
       "286852                                2nd Ave & Spring St           CH-09   \n",
       "286853                              6th Ave S & S King St           CH-08   \n",
       "286854                              6th Ave S & S King St           CH-08   \n",
       "286855                              6th Ave S & S King St           CH-08   \n",
       "286856                              6th Ave S & S King St           CH-08   \n",
       "\n",
       "       to_station_id                usertype  gender  birthyear  \n",
       "0              PS-04                  Member    Male     1960.0  \n",
       "1              PS-04                  Member    Male     1970.0  \n",
       "2              PS-04                  Member  Female     1988.0  \n",
       "3              PS-04                  Member  Female     1977.0  \n",
       "4              PS-04                  Member    Male     1971.0  \n",
       "...              ...                     ...     ...        ...  \n",
       "286852        CBD-06  Short-Term Pass Holder     NaN        NaN  \n",
       "286853         ID-04  Short-Term Pass Holder     NaN        NaN  \n",
       "286854         ID-04  Short-Term Pass Holder     NaN        NaN  \n",
       "286855         ID-04  Short-Term Pass Holder     NaN        NaN  \n",
       "286856         ID-04  Short-Term Pass Holder     NaN        NaN  \n",
       "\n",
       "[286857 rows x 12 columns]"
      ],
      "text/html": "<div>\n<style scoped>\n    .dataframe tbody tr th:only-of-type {\n        vertical-align: middle;\n    }\n\n    .dataframe tbody tr th {\n        vertical-align: top;\n    }\n\n    .dataframe thead th {\n        text-align: right;\n    }\n</style>\n<table border=\"1\" class=\"dataframe\">\n  <thead>\n    <tr style=\"text-align: right;\">\n      <th></th>\n      <th>trip_id</th>\n      <th>starttime</th>\n      <th>stoptime</th>\n      <th>bikeid</th>\n      <th>tripduration</th>\n      <th>from_station_name</th>\n      <th>to_station_name</th>\n      <th>from_station_id</th>\n      <th>to_station_id</th>\n      <th>usertype</th>\n      <th>gender</th>\n      <th>birthyear</th>\n    </tr>\n  </thead>\n  <tbody>\n    <tr>\n      <th>0</th>\n      <td>431</td>\n      <td>10/13/2014 10:31</td>\n      <td>10/13/2014 10:48</td>\n      <td>SEA00298</td>\n      <td>985.935</td>\n      <td>2nd Ave &amp; Spring St</td>\n      <td>Occidental Park / Occidental Ave S &amp; S Washing...</td>\n      <td>CBD-06</td>\n      <td>PS-04</td>\n      <td>Member</td>\n      <td>Male</td>\n      <td>1960.0</td>\n    </tr>\n    <tr>\n      <th>1</th>\n      <td>432</td>\n      <td>10/13/2014 10:32</td>\n      <td>10/13/2014 10:48</td>\n      <td>SEA00195</td>\n      <td>926.375</td>\n      <td>2nd Ave &amp; Spring St</td>\n      <td>Occidental Park / Occidental Ave S &amp; S Washing...</td>\n      <td>CBD-06</td>\n      <td>PS-04</td>\n      <td>Member</td>\n      <td>Male</td>\n      <td>1970.0</td>\n    </tr>\n    <tr>\n      <th>2</th>\n      <td>433</td>\n      <td>10/13/2014 10:33</td>\n      <td>10/13/2014 10:48</td>\n      <td>SEA00486</td>\n      <td>883.831</td>\n      <td>2nd Ave &amp; Spring St</td>\n      <td>Occidental Park / Occidental Ave S &amp; S Washing...</td>\n      <td>CBD-06</td>\n      <td>PS-04</td>\n      <td>Member</td>\n      <td>Female</td>\n      <td>1988.0</td>\n    </tr>\n    <tr>\n      <th>3</th>\n      <td>434</td>\n      <td>10/13/2014 10:34</td>\n      <td>10/13/2014 10:48</td>\n      <td>SEA00333</td>\n      <td>865.937</td>\n      <td>2nd Ave &amp; Spring St</td>\n      <td>Occidental Park / Occidental Ave S &amp; S Washing...</td>\n      <td>CBD-06</td>\n      <td>PS-04</td>\n      <td>Member</td>\n      <td>Female</td>\n      <td>1977.0</td>\n    </tr>\n    <tr>\n      <th>4</th>\n      <td>435</td>\n      <td>10/13/2014 10:34</td>\n      <td>10/13/2014 10:49</td>\n      <td>SEA00202</td>\n      <td>923.923</td>\n      <td>2nd Ave &amp; Spring St</td>\n      <td>Occidental Park / Occidental Ave S &amp; S Washing...</td>\n      <td>CBD-06</td>\n      <td>PS-04</td>\n      <td>Member</td>\n      <td>Male</td>\n      <td>1971.0</td>\n    </tr>\n    <tr>\n      <th>...</th>\n      <td>...</td>\n      <td>...</td>\n      <td>...</td>\n      <td>...</td>\n      <td>...</td>\n      <td>...</td>\n      <td>...</td>\n      <td>...</td>\n      <td>...</td>\n      <td>...</td>\n      <td>...</td>\n      <td>...</td>\n    </tr>\n    <tr>\n      <th>286852</th>\n      <td>255241</td>\n      <td>8/31/2016 23:34</td>\n      <td>8/31/2016 23:45</td>\n      <td>SEA00201</td>\n      <td>679.532</td>\n      <td>Harvard Ave &amp; E Pine St</td>\n      <td>2nd Ave &amp; Spring St</td>\n      <td>CH-09</td>\n      <td>CBD-06</td>\n      <td>Short-Term Pass Holder</td>\n      <td>NaN</td>\n      <td>NaN</td>\n    </tr>\n    <tr>\n      <th>286853</th>\n      <td>255242</td>\n      <td>8/31/2016 23:48</td>\n      <td>9/1/2016 0:20</td>\n      <td>SEA00247</td>\n      <td>1965.418</td>\n      <td>Cal Anderson Park / 11th Ave &amp; Pine St</td>\n      <td>6th Ave S &amp; S King St</td>\n      <td>CH-08</td>\n      <td>ID-04</td>\n      <td>Short-Term Pass Holder</td>\n      <td>NaN</td>\n      <td>NaN</td>\n    </tr>\n    <tr>\n      <th>286854</th>\n      <td>255243</td>\n      <td>8/31/2016 23:47</td>\n      <td>9/1/2016 0:20</td>\n      <td>SEA00300</td>\n      <td>1951.173</td>\n      <td>Cal Anderson Park / 11th Ave &amp; Pine St</td>\n      <td>6th Ave S &amp; S King St</td>\n      <td>CH-08</td>\n      <td>ID-04</td>\n      <td>Short-Term Pass Holder</td>\n      <td>NaN</td>\n      <td>NaN</td>\n    </tr>\n    <tr>\n      <th>286855</th>\n      <td>255244</td>\n      <td>8/31/2016 23:49</td>\n      <td>9/1/2016 0:20</td>\n      <td>SEA00047</td>\n      <td>1883.299</td>\n      <td>Cal Anderson Park / 11th Ave &amp; Pine St</td>\n      <td>6th Ave S &amp; S King St</td>\n      <td>CH-08</td>\n      <td>ID-04</td>\n      <td>Short-Term Pass Holder</td>\n      <td>NaN</td>\n      <td>NaN</td>\n    </tr>\n    <tr>\n      <th>286856</th>\n      <td>255245</td>\n      <td>8/31/2016 23:49</td>\n      <td>9/1/2016 0:20</td>\n      <td>SEA00442</td>\n      <td>1896.031</td>\n      <td>Cal Anderson Park / 11th Ave &amp; Pine St</td>\n      <td>6th Ave S &amp; S King St</td>\n      <td>CH-08</td>\n      <td>ID-04</td>\n      <td>Short-Term Pass Holder</td>\n      <td>NaN</td>\n      <td>NaN</td>\n    </tr>\n  </tbody>\n</table>\n<p>286857 rows × 12 columns</p>\n</div>"
     },
     "metadata": {},
     "execution_count": 15
    }
   ],
   "source": [
    "df_trip = pd.read_csv('./trip.csv', error_bad_lines=False)\n",
    "df_trip"
   ]
  },
  {
   "cell_type": "code",
   "execution_count": 16,
   "metadata": {},
   "outputs": [
    {
     "output_type": "stream",
     "name": "stdout",
     "text": [
      "<class 'pandas.core.frame.DataFrame'>\nRangeIndex: 286857 entries, 0 to 286856\nData columns (total 12 columns):\n #   Column             Non-Null Count   Dtype  \n---  ------             --------------   -----  \n 0   trip_id            286857 non-null  int64  \n 1   starttime          286857 non-null  object \n 2   stoptime           286857 non-null  object \n 3   bikeid             286857 non-null  object \n 4   tripduration       286857 non-null  float64\n 5   from_station_name  286857 non-null  object \n 6   to_station_name    286857 non-null  object \n 7   from_station_id    286857 non-null  object \n 8   to_station_id      286857 non-null  object \n 9   usertype           286857 non-null  object \n 10  gender             181557 non-null  object \n 11  birthyear          181553 non-null  float64\ndtypes: float64(2), int64(1), object(9)\nmemory usage: 26.3+ MB\n"
     ]
    }
   ],
   "source": [
    "df_trip.info()"
   ]
  },
  {
   "cell_type": "code",
   "execution_count": 18,
   "metadata": {},
   "outputs": [
    {
     "output_type": "stream",
     "name": "stdout",
     "text": [
      "19.638261255666293 minutes\n"
     ]
    }
   ],
   "source": [
    "avg_trip_duration = df_trip['tripduration'].mean()\n",
    "avg_trip_duration = avg_trip_duration/60 #trip duration is in seconds so dividing by 60 for minutes\n",
    "print(f'{avg_trip_duration} minutes')"
   ]
  },
  {
   "cell_type": "code",
   "execution_count": 14,
   "metadata": {},
   "outputs": [
    {
     "output_type": "execute_result",
     "data": {
      "text/plain": [
       "0    34.0\n",
       "dtype: float64"
      ]
     },
     "metadata": {},
     "execution_count": 14
    }
   ],
   "source": [
    "most_comman_birthyear = df_trip['birthyear'].mode()\n",
    "most_comman_age = 2021 -  most_comman_birthyear\n",
    "most_comman_age"
   ]
  },
  {
   "cell_type": "code",
   "execution_count": 19,
   "metadata": {},
   "outputs": [
    {
     "output_type": "execute_result",
     "data": {
      "text/plain": [
       "           Date  Max_Temperature_F  Mean_Temperature_F  Min_TemperatureF  \\\n",
       "0    10/13/2014                 71                62.0                54   \n",
       "1    10/14/2014                 63                59.0                55   \n",
       "2    10/15/2014                 62                58.0                54   \n",
       "3    10/16/2014                 71                61.0                52   \n",
       "4    10/17/2014                 64                60.0                57   \n",
       "..          ...                ...                 ...               ...   \n",
       "684   8/27/2016                 72                66.0                61   \n",
       "685   8/28/2016                 75                68.0                59   \n",
       "686   8/29/2016                 81                68.0                55   \n",
       "687   8/30/2016                 70                64.0                57   \n",
       "688   8/31/2016                 71                65.0                59   \n",
       "\n",
       "     Max_Dew_Point_F  MeanDew_Point_F  Min_Dewpoint_F  Max_Humidity  \\\n",
       "0                 55               51              46            87   \n",
       "1                 52               51              50            88   \n",
       "2                 53               50              46            87   \n",
       "3                 49               46              42            83   \n",
       "4                 55               51              41            87   \n",
       "..               ...              ...             ...           ...   \n",
       "684               57               54              50            81   \n",
       "685               54               52              50            80   \n",
       "686               55               53              50            89   \n",
       "687               55               53              52            83   \n",
       "688               61               56              52            90   \n",
       "\n",
       "     Mean_Humidity  Min_Humidity  ...  Mean_Sea_Level_Pressure_In  \\\n",
       "0               68            46  ...                       29.79   \n",
       "1               78            63  ...                       29.75   \n",
       "2               77            67  ...                       29.71   \n",
       "3               61            36  ...                       29.95   \n",
       "4               72            46  ...                       29.78   \n",
       "..             ...           ...  ...                         ...   \n",
       "684             65            46  ...                       29.88   \n",
       "685             65            44  ...                       30.06   \n",
       "686             65            39  ...                       30.02   \n",
       "687             69            53  ...                       30.01   \n",
       "688             77            63  ...                       29.97   \n",
       "\n",
       "     Min_Sea_Level_Pressure_In  Max_Visibility_Miles  Mean_Visibility_Miles  \\\n",
       "0                        29.65                    10                     10   \n",
       "1                        29.54                    10                      9   \n",
       "2                        29.51                    10                      9   \n",
       "3                        29.81                    10                     10   \n",
       "4                        29.73                    10                     10   \n",
       "..                         ...                   ...                    ...   \n",
       "684                      29.77                    10                     10   \n",
       "685                      30.01                    10                     10   \n",
       "686                      29.95                    10                     10   \n",
       "687                      29.97                    10                     10   \n",
       "688                      29.96                    10                     10   \n",
       "\n",
       "     Min_Visibility_Miles  Max_Wind_Speed_MPH  Mean_Wind_Speed_MPH  \\\n",
       "0                       4                  13                    4   \n",
       "1                       3                  10                    5   \n",
       "2                       3                  18                    7   \n",
       "3                      10                   9                    4   \n",
       "4                       6                   8                    3   \n",
       "..                    ...                 ...                  ...   \n",
       "684                    10                  16                    9   \n",
       "685                    10                  12                    9   \n",
       "686                     6                   9                    4   \n",
       "687                    10                  14                    9   \n",
       "688                     8                  14                    8   \n",
       "\n",
       "     Max_Gust_Speed_MPH Precipitation_In  Events  \n",
       "0                    21             0.00    Rain  \n",
       "1                    17             0.11    Rain  \n",
       "2                    25             0.45    Rain  \n",
       "3                     -             0.00    Rain  \n",
       "4                     -             0.14    Rain  \n",
       "..                  ...              ...     ...  \n",
       "684                 NaN             0.00     NaN  \n",
       "685                 NaN             0.00     NaN  \n",
       "686                 NaN             0.00     NaN  \n",
       "687                  18             0.00     NaN  \n",
       "688                 NaN             0.00    Rain  \n",
       "\n",
       "[689 rows x 21 columns]"
      ],
      "text/html": "<div>\n<style scoped>\n    .dataframe tbody tr th:only-of-type {\n        vertical-align: middle;\n    }\n\n    .dataframe tbody tr th {\n        vertical-align: top;\n    }\n\n    .dataframe thead th {\n        text-align: right;\n    }\n</style>\n<table border=\"1\" class=\"dataframe\">\n  <thead>\n    <tr style=\"text-align: right;\">\n      <th></th>\n      <th>Date</th>\n      <th>Max_Temperature_F</th>\n      <th>Mean_Temperature_F</th>\n      <th>Min_TemperatureF</th>\n      <th>Max_Dew_Point_F</th>\n      <th>MeanDew_Point_F</th>\n      <th>Min_Dewpoint_F</th>\n      <th>Max_Humidity</th>\n      <th>Mean_Humidity</th>\n      <th>Min_Humidity</th>\n      <th>...</th>\n      <th>Mean_Sea_Level_Pressure_In</th>\n      <th>Min_Sea_Level_Pressure_In</th>\n      <th>Max_Visibility_Miles</th>\n      <th>Mean_Visibility_Miles</th>\n      <th>Min_Visibility_Miles</th>\n      <th>Max_Wind_Speed_MPH</th>\n      <th>Mean_Wind_Speed_MPH</th>\n      <th>Max_Gust_Speed_MPH</th>\n      <th>Precipitation_In</th>\n      <th>Events</th>\n    </tr>\n  </thead>\n  <tbody>\n    <tr>\n      <th>0</th>\n      <td>10/13/2014</td>\n      <td>71</td>\n      <td>62.0</td>\n      <td>54</td>\n      <td>55</td>\n      <td>51</td>\n      <td>46</td>\n      <td>87</td>\n      <td>68</td>\n      <td>46</td>\n      <td>...</td>\n      <td>29.79</td>\n      <td>29.65</td>\n      <td>10</td>\n      <td>10</td>\n      <td>4</td>\n      <td>13</td>\n      <td>4</td>\n      <td>21</td>\n      <td>0.00</td>\n      <td>Rain</td>\n    </tr>\n    <tr>\n      <th>1</th>\n      <td>10/14/2014</td>\n      <td>63</td>\n      <td>59.0</td>\n      <td>55</td>\n      <td>52</td>\n      <td>51</td>\n      <td>50</td>\n      <td>88</td>\n      <td>78</td>\n      <td>63</td>\n      <td>...</td>\n      <td>29.75</td>\n      <td>29.54</td>\n      <td>10</td>\n      <td>9</td>\n      <td>3</td>\n      <td>10</td>\n      <td>5</td>\n      <td>17</td>\n      <td>0.11</td>\n      <td>Rain</td>\n    </tr>\n    <tr>\n      <th>2</th>\n      <td>10/15/2014</td>\n      <td>62</td>\n      <td>58.0</td>\n      <td>54</td>\n      <td>53</td>\n      <td>50</td>\n      <td>46</td>\n      <td>87</td>\n      <td>77</td>\n      <td>67</td>\n      <td>...</td>\n      <td>29.71</td>\n      <td>29.51</td>\n      <td>10</td>\n      <td>9</td>\n      <td>3</td>\n      <td>18</td>\n      <td>7</td>\n      <td>25</td>\n      <td>0.45</td>\n      <td>Rain</td>\n    </tr>\n    <tr>\n      <th>3</th>\n      <td>10/16/2014</td>\n      <td>71</td>\n      <td>61.0</td>\n      <td>52</td>\n      <td>49</td>\n      <td>46</td>\n      <td>42</td>\n      <td>83</td>\n      <td>61</td>\n      <td>36</td>\n      <td>...</td>\n      <td>29.95</td>\n      <td>29.81</td>\n      <td>10</td>\n      <td>10</td>\n      <td>10</td>\n      <td>9</td>\n      <td>4</td>\n      <td>-</td>\n      <td>0.00</td>\n      <td>Rain</td>\n    </tr>\n    <tr>\n      <th>4</th>\n      <td>10/17/2014</td>\n      <td>64</td>\n      <td>60.0</td>\n      <td>57</td>\n      <td>55</td>\n      <td>51</td>\n      <td>41</td>\n      <td>87</td>\n      <td>72</td>\n      <td>46</td>\n      <td>...</td>\n      <td>29.78</td>\n      <td>29.73</td>\n      <td>10</td>\n      <td>10</td>\n      <td>6</td>\n      <td>8</td>\n      <td>3</td>\n      <td>-</td>\n      <td>0.14</td>\n      <td>Rain</td>\n    </tr>\n    <tr>\n      <th>...</th>\n      <td>...</td>\n      <td>...</td>\n      <td>...</td>\n      <td>...</td>\n      <td>...</td>\n      <td>...</td>\n      <td>...</td>\n      <td>...</td>\n      <td>...</td>\n      <td>...</td>\n      <td>...</td>\n      <td>...</td>\n      <td>...</td>\n      <td>...</td>\n      <td>...</td>\n      <td>...</td>\n      <td>...</td>\n      <td>...</td>\n      <td>...</td>\n      <td>...</td>\n      <td>...</td>\n    </tr>\n    <tr>\n      <th>684</th>\n      <td>8/27/2016</td>\n      <td>72</td>\n      <td>66.0</td>\n      <td>61</td>\n      <td>57</td>\n      <td>54</td>\n      <td>50</td>\n      <td>81</td>\n      <td>65</td>\n      <td>46</td>\n      <td>...</td>\n      <td>29.88</td>\n      <td>29.77</td>\n      <td>10</td>\n      <td>10</td>\n      <td>10</td>\n      <td>16</td>\n      <td>9</td>\n      <td>NaN</td>\n      <td>0.00</td>\n      <td>NaN</td>\n    </tr>\n    <tr>\n      <th>685</th>\n      <td>8/28/2016</td>\n      <td>75</td>\n      <td>68.0</td>\n      <td>59</td>\n      <td>54</td>\n      <td>52</td>\n      <td>50</td>\n      <td>80</td>\n      <td>65</td>\n      <td>44</td>\n      <td>...</td>\n      <td>30.06</td>\n      <td>30.01</td>\n      <td>10</td>\n      <td>10</td>\n      <td>10</td>\n      <td>12</td>\n      <td>9</td>\n      <td>NaN</td>\n      <td>0.00</td>\n      <td>NaN</td>\n    </tr>\n    <tr>\n      <th>686</th>\n      <td>8/29/2016</td>\n      <td>81</td>\n      <td>68.0</td>\n      <td>55</td>\n      <td>55</td>\n      <td>53</td>\n      <td>50</td>\n      <td>89</td>\n      <td>65</td>\n      <td>39</td>\n      <td>...</td>\n      <td>30.02</td>\n      <td>29.95</td>\n      <td>10</td>\n      <td>10</td>\n      <td>6</td>\n      <td>9</td>\n      <td>4</td>\n      <td>NaN</td>\n      <td>0.00</td>\n      <td>NaN</td>\n    </tr>\n    <tr>\n      <th>687</th>\n      <td>8/30/2016</td>\n      <td>70</td>\n      <td>64.0</td>\n      <td>57</td>\n      <td>55</td>\n      <td>53</td>\n      <td>52</td>\n      <td>83</td>\n      <td>69</td>\n      <td>53</td>\n      <td>...</td>\n      <td>30.01</td>\n      <td>29.97</td>\n      <td>10</td>\n      <td>10</td>\n      <td>10</td>\n      <td>14</td>\n      <td>9</td>\n      <td>18</td>\n      <td>0.00</td>\n      <td>NaN</td>\n    </tr>\n    <tr>\n      <th>688</th>\n      <td>8/31/2016</td>\n      <td>71</td>\n      <td>65.0</td>\n      <td>59</td>\n      <td>61</td>\n      <td>56</td>\n      <td>52</td>\n      <td>90</td>\n      <td>77</td>\n      <td>63</td>\n      <td>...</td>\n      <td>29.97</td>\n      <td>29.96</td>\n      <td>10</td>\n      <td>10</td>\n      <td>8</td>\n      <td>14</td>\n      <td>8</td>\n      <td>NaN</td>\n      <td>0.00</td>\n      <td>Rain</td>\n    </tr>\n  </tbody>\n</table>\n<p>689 rows × 21 columns</p>\n</div>"
     },
     "metadata": {},
     "execution_count": 19
    }
   ],
   "source": [
    "df_weather = pd.read_csv('./weather.csv', error_bad_lines=False)\n",
    "df_weather"
   ]
  },
  {
   "cell_type": "code",
   "execution_count": 21,
   "metadata": {},
   "outputs": [
    {
     "output_type": "stream",
     "name": "stdout",
     "text": [
      "<class 'pandas.core.frame.DataFrame'>\nRangeIndex: 689 entries, 0 to 688\nData columns (total 21 columns):\n #   Column                      Non-Null Count  Dtype  \n---  ------                      --------------  -----  \n 0   Date                        689 non-null    object \n 1   Max_Temperature_F           689 non-null    int64  \n 2   Mean_Temperature_F          688 non-null    float64\n 3   Min_TemperatureF            689 non-null    int64  \n 4   Max_Dew_Point_F             689 non-null    int64  \n 5   MeanDew_Point_F             689 non-null    int64  \n 6   Min_Dewpoint_F              689 non-null    int64  \n 7   Max_Humidity                689 non-null    int64  \n 8   Mean_Humidity               689 non-null    int64  \n 9   Min_Humidity                689 non-null    int64  \n 10  Max_Sea_Level_Pressure_In   689 non-null    float64\n 11  Mean_Sea_Level_Pressure_In  689 non-null    float64\n 12  Min_Sea_Level_Pressure_In   689 non-null    float64\n 13  Max_Visibility_Miles        689 non-null    int64  \n 14  Mean_Visibility_Miles       689 non-null    int64  \n 15  Min_Visibility_Miles        689 non-null    int64  \n 16  Max_Wind_Speed_MPH          689 non-null    int64  \n 17  Mean_Wind_Speed_MPH         689 non-null    int64  \n 18  Max_Gust_Speed_MPH          504 non-null    object \n 19  Precipitation_In            689 non-null    float64\n 20  Events                      328 non-null    object \ndtypes: float64(5), int64(13), object(3)\nmemory usage: 113.2+ KB\n"
     ]
    }
   ],
   "source": [
    "df_weather.info()"
   ]
  },
  {
   "cell_type": "code",
   "execution_count": 24,
   "metadata": {},
   "outputs": [
    {
     "output_type": "execute_result",
     "data": {
      "text/plain": [
       "Precipitation_In    0.105065\n",
       "dtype: float64"
      ]
     },
     "metadata": {},
     "execution_count": 24
    }
   ],
   "source": [
    "avg_precipitation = df_weather[['Date','Precipitation_In']].mean()\n",
    "avg_precipitation"
   ]
  },
  {
   "cell_type": "code",
   "execution_count": 26,
   "metadata": {},
   "outputs": [],
   "source": [
    "df_station = pd.read_csv('./station.csv', error_bad_lines=False)"
   ]
  },
  {
   "cell_type": "code",
   "execution_count": 27,
   "metadata": {},
   "outputs": [
    {
     "output_type": "stream",
     "name": "stdout",
     "text": [
      "<class 'pandas.core.frame.DataFrame'>\nRangeIndex: 58 entries, 0 to 57\nData columns (total 9 columns):\n #   Column             Non-Null Count  Dtype  \n---  ------             --------------  -----  \n 0   station_id         58 non-null     object \n 1   name               58 non-null     object \n 2   lat                58 non-null     float64\n 3   long               58 non-null     float64\n 4   install_date       58 non-null     object \n 5   install_dockcount  58 non-null     int64  \n 6   modification_date  17 non-null     object \n 7   current_dockcount  58 non-null     int64  \n 8   decommission_date  4 non-null      object \ndtypes: float64(2), int64(2), object(5)\nmemory usage: 4.2+ KB\n"
     ]
    }
   ],
   "source": [
    "df_station.info()"
   ]
  },
  {
   "cell_type": "code",
   "execution_count": 32,
   "metadata": {},
   "outputs": [
    {
     "output_type": "execute_result",
     "data": {
      "text/plain": [
       "current_dockcount    16.517241\n",
       "dtype: float64"
      ]
     },
     "metadata": {},
     "execution_count": 32
    }
   ],
   "source": [
    "avg_bikes = df_station[['name','current_dockcount']].mean()\n",
    "avg_bikes"
   ]
  },
  {
   "cell_type": "code",
   "execution_count": 38,
   "metadata": {},
   "outputs": [
    {
     "output_type": "execute_result",
     "data": {
      "text/plain": [
       "install_dockcount    17.586207\n",
       "dtype: float64"
      ]
     },
     "metadata": {},
     "execution_count": 38
    }
   ],
   "source": [
    "df_station[['name','install_dockcount']]\n",
    "install_dockcount_avg = df_station[['name','install_dockcount']].mean()\n",
    "install_dockcount_avg\n"
   ]
  },
  {
   "cell_type": "code",
   "execution_count": 64,
   "metadata": {},
   "outputs": [
    {
     "output_type": "execute_result",
     "data": {
      "text/plain": [
       "                                                 name  install_dockcount  \\\n",
       "46                       UW McCarty Hall / Whitman Ct                 16   \n",
       "38                             Dexter Ave & Denny Way                 20   \n",
       "7                                 2nd Ave & Spring St                 20   \n",
       "48                           15th Ave NE & NE 40th St                 18   \n",
       "47  Burke Museum / E Stevens Way NE & Memorial Way NE                 12   \n",
       "49  UW Engineering Library / E Stevens Way NE & Je...                 12   \n",
       "50                  UW Intramural Activities Building                 20   \n",
       "37          Lake Union Park / Valley St & Boren Ave N                 18   \n",
       "31                         REI / Yale Ave N & John St                 18   \n",
       "17             Cal Anderson Park / 11th Ave & Pine St                 28   \n",
       "12                     E Harrison St & Broadway Ave E                 18   \n",
       "35                             Westlake Ave & 6th Ave                 12   \n",
       "26          Frye Art Museum / Terry Ave & Columbia St                 16   \n",
       "22  Children's Hospital / Sandpoint Way NE & 40th ...                 30   \n",
       "23  Fred Hutchinson Cancer Research Center / Fairv...                 12   \n",
       "39                Key Arena / 1st Ave N & Harrison St                 12   \n",
       "10                            12th Ave & E Yesler Way                 16   \n",
       "\n",
       "    current_dockcount modification_date  \n",
       "46                  0        10/29/2015  \n",
       "38                  0         11/2/2015  \n",
       "7                  18         11/9/2015  \n",
       "48                 16         2/20/2015  \n",
       "47                 14         2/20/2015  \n",
       "49                 14         2/20/2015  \n",
       "50                 14         2/20/2015  \n",
       "37                 16         2/23/2015  \n",
       "31                 20         2/24/2015  \n",
       "17                 26         2/24/2015  \n",
       "12                 20         2/24/2015  \n",
       "35                 20         3/13/2015  \n",
       "26                  0         3/18/2016  \n",
       "22                 24         3/24/2015  \n",
       "23                 16         3/27/2015  \n",
       "39                 16          3/4/2015  \n",
       "10                  0          8/9/2016  "
      ],
      "text/html": "<div>\n<style scoped>\n    .dataframe tbody tr th:only-of-type {\n        vertical-align: middle;\n    }\n\n    .dataframe tbody tr th {\n        vertical-align: top;\n    }\n\n    .dataframe thead th {\n        text-align: right;\n    }\n</style>\n<table border=\"1\" class=\"dataframe\">\n  <thead>\n    <tr style=\"text-align: right;\">\n      <th></th>\n      <th>name</th>\n      <th>install_dockcount</th>\n      <th>current_dockcount</th>\n      <th>modification_date</th>\n    </tr>\n  </thead>\n  <tbody>\n    <tr>\n      <th>46</th>\n      <td>UW McCarty Hall / Whitman Ct</td>\n      <td>16</td>\n      <td>0</td>\n      <td>10/29/2015</td>\n    </tr>\n    <tr>\n      <th>38</th>\n      <td>Dexter Ave &amp; Denny Way</td>\n      <td>20</td>\n      <td>0</td>\n      <td>11/2/2015</td>\n    </tr>\n    <tr>\n      <th>7</th>\n      <td>2nd Ave &amp; Spring St</td>\n      <td>20</td>\n      <td>18</td>\n      <td>11/9/2015</td>\n    </tr>\n    <tr>\n      <th>48</th>\n      <td>15th Ave NE &amp; NE 40th St</td>\n      <td>18</td>\n      <td>16</td>\n      <td>2/20/2015</td>\n    </tr>\n    <tr>\n      <th>47</th>\n      <td>Burke Museum / E Stevens Way NE &amp; Memorial Way NE</td>\n      <td>12</td>\n      <td>14</td>\n      <td>2/20/2015</td>\n    </tr>\n    <tr>\n      <th>49</th>\n      <td>UW Engineering Library / E Stevens Way NE &amp; Je...</td>\n      <td>12</td>\n      <td>14</td>\n      <td>2/20/2015</td>\n    </tr>\n    <tr>\n      <th>50</th>\n      <td>UW Intramural Activities Building</td>\n      <td>20</td>\n      <td>14</td>\n      <td>2/20/2015</td>\n    </tr>\n    <tr>\n      <th>37</th>\n      <td>Lake Union Park / Valley St &amp; Boren Ave N</td>\n      <td>18</td>\n      <td>16</td>\n      <td>2/23/2015</td>\n    </tr>\n    <tr>\n      <th>31</th>\n      <td>REI / Yale Ave N &amp; John St</td>\n      <td>18</td>\n      <td>20</td>\n      <td>2/24/2015</td>\n    </tr>\n    <tr>\n      <th>17</th>\n      <td>Cal Anderson Park / 11th Ave &amp; Pine St</td>\n      <td>28</td>\n      <td>26</td>\n      <td>2/24/2015</td>\n    </tr>\n    <tr>\n      <th>12</th>\n      <td>E Harrison St &amp; Broadway Ave E</td>\n      <td>18</td>\n      <td>20</td>\n      <td>2/24/2015</td>\n    </tr>\n    <tr>\n      <th>35</th>\n      <td>Westlake Ave &amp; 6th Ave</td>\n      <td>12</td>\n      <td>20</td>\n      <td>3/13/2015</td>\n    </tr>\n    <tr>\n      <th>26</th>\n      <td>Frye Art Museum / Terry Ave &amp; Columbia St</td>\n      <td>16</td>\n      <td>0</td>\n      <td>3/18/2016</td>\n    </tr>\n    <tr>\n      <th>22</th>\n      <td>Children's Hospital / Sandpoint Way NE &amp; 40th ...</td>\n      <td>30</td>\n      <td>24</td>\n      <td>3/24/2015</td>\n    </tr>\n    <tr>\n      <th>23</th>\n      <td>Fred Hutchinson Cancer Research Center / Fairv...</td>\n      <td>12</td>\n      <td>16</td>\n      <td>3/27/2015</td>\n    </tr>\n    <tr>\n      <th>39</th>\n      <td>Key Arena / 1st Ave N &amp; Harrison St</td>\n      <td>12</td>\n      <td>16</td>\n      <td>3/4/2015</td>\n    </tr>\n    <tr>\n      <th>10</th>\n      <td>12th Ave &amp; E Yesler Way</td>\n      <td>16</td>\n      <td>0</td>\n      <td>8/9/2016</td>\n    </tr>\n  </tbody>\n</table>\n</div>"
     },
     "metadata": {},
     "execution_count": 64
    }
   ],
   "source": [
    "modified_stations = df_station[['name','install_dockcount','current_dockcount','modification_date']].sort_values('modification_date').head(17)\n",
    "modified_stations\n",
    "\n",
    "#This shows the install dock count with the current dockcount for stations that were modified\n"
   ]
  },
  {
   "cell_type": "code",
   "execution_count": 65,
   "metadata": {},
   "outputs": [
    {
     "output_type": "execute_result",
     "data": {
      "text/plain": [
       "install_dockcount    17.529412\n",
       "current_dockcount    13.764706\n",
       "dtype: float64"
      ]
     },
     "metadata": {},
     "execution_count": 65
    }
   ],
   "source": [
    "modified_stations.mean()\n",
    "# This shows the average dock count before modification and now. Looks like stations loose bikes after modified\n"
   ]
  },
  {
   "cell_type": "code",
   "execution_count": null,
   "metadata": {},
   "outputs": [],
   "source": []
  }
 ]
}